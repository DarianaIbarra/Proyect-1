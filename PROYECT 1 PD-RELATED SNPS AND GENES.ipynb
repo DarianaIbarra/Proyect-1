{
 "cells": [
  {
   "cell_type": "code",
   "execution_count": 35,
   "id": "d414dfeb-48bd-4e78-88b9-1e6b11197ae0",
   "metadata": {
    "scrolled": true
   },
   "outputs": [
    {
     "name": "stdout",
     "output_type": "stream",
     "text": [
      "  MAPPED_GENE         SNPS  # MAPPED_GENES REPETITIONS\n",
      "0        AACS    rs6488987                         1.0\n",
      "1        AAK1    rs7577851                         1.0\n",
      "2      ADAM10  rs118049686                         1.0\n",
      "3        ADD1   rs16843452                         1.0\n",
      "4       AGAP1   rs10929159                         1.0\n",
      "    MAPPED_GENE            SNPS  # MAPPED_GENES REPETITIONS\n",
      "0          AACS       rs6488987                         1.0\n",
      "1          AAK1       rs7577851                         1.0\n",
      "2        ADAM10     rs118049686                         1.0\n",
      "3          ADD1      rs16843452                         1.0\n",
      "4         AGAP1      rs10929159                         1.0\n",
      "..          ...             ...                         ...\n",
      "769         NaN     kgp11333367                         NaN\n",
      "770         NaN       kgp348599                         NaN\n",
      "771         NaN      kgp4156164                         NaN\n",
      "772         NaN  chr6:119067987                         NaN\n",
      "773         NaN            H1H2                         NaN\n",
      "\n",
      "[774 rows x 3 columns]\n"
     ]
    }
   ],
   "source": [
    "import pandas as pd\n",
    "import matplotlib.pyplot as plt\n",
    "import scipy.stats as st\n",
    "from pathlib import Path\n",
    "\n",
    "# Define the path to the Excel file\n",
    "SNP_file_path = Path(\"/Users/darianaibarra/Downloads/DATA GENES.xlsx\")\n",
    "\n",
    "# Read the Excel file into a DataFrame\n",
    "# You may need to specify the sheet name if there are multiple sheets\n",
    "df_snp = pd.read_excel(SNP_file_path,\"COMPARATIVE TABLE\")\n",
    "\n",
    "# Set pandas options to display all columns\n",
    "pd.set_option('display.max_columns', None)  # None means no limit\n",
    "\n",
    "# Display the first few rows of the DataFrame\n",
    "print(df_snp.head())\n",
    "\n",
    "# Optionally, display the entire DataFrame\n",
    "print(df_snp)"
   ]
  },
  {
   "cell_type": "code",
   "execution_count": 36,
   "id": "ce0e6b55-a6f8-441e-9028-40d6ead71cc6",
   "metadata": {},
   "outputs": [
    {
     "name": "stdout",
     "output_type": "stream",
     "text": [
      "          MAPPED_GENE  # MAPPED_GENES REPETITIONS        SNPS\n",
      "0                 ZP3                           1   rs6465122\n",
      "1      ZNF646, PRSS53                           1  rs11865038\n",
      "2  ZNF608 - LINC02240                           2   rs6875262\n",
      "3     ZNF474 - SNCAIP                           2   rs5870994\n",
      "4     ZNF322 - GUSBP2                           1   rs2451713\n",
      "            MAPPED_GENE  # MAPPED_GENES REPETITIONS         SNPS\n",
      "0                   ZP3                           1    rs6465122\n",
      "1        ZNF646, PRSS53                           1   rs11865038\n",
      "2    ZNF608 - LINC02240                           2    rs6875262\n",
      "3       ZNF474 - SNCAIP                           2    rs5870994\n",
      "4       ZNF322 - GUSBP2                           1    rs2451713\n",
      "..                  ...                         ...          ...\n",
      "402               AGAP1                           1   rs10929159\n",
      "403                ADD1                           1   rs16843452\n",
      "404              ADAM10                           1  rs118049686\n",
      "405                AAK1                           1    rs7577851\n",
      "406                AACS                           1    rs6488987\n",
      "\n",
      "[407 rows x 3 columns]\n"
     ]
    }
   ],
   "source": [
    "# You may need to specify the sheet name if there are multiple sheets\n",
    "df_snp = pd.read_excel(SNP_file_path,\"COUNT_MAPPED_GENES\")\n",
    "\n",
    "# Set pandas options to display all columns\n",
    "pd.set_option('display.max_columns', None)  # None means no limit\n",
    "\n",
    "# Display the first few rows of the DataFrame\n",
    "print(df_snp.head())\n",
    "\n",
    "# Optionally, display the entire DataFrame\n",
    "print(df_snp)"
   ]
  },
  {
   "cell_type": "code",
   "execution_count": null,
   "id": "7c0e5121-95cc-48c9-b040-2e85022db68e",
   "metadata": {},
   "outputs": [],
   "source": []
  }
 ],
 "metadata": {
  "kernelspec": {
   "display_name": "Python 3 (ipykernel)",
   "language": "python",
   "name": "python3"
  },
  "language_info": {
   "codemirror_mode": {
    "name": "ipython",
    "version": 3
   },
   "file_extension": ".py",
   "mimetype": "text/x-python",
   "name": "python",
   "nbconvert_exporter": "python",
   "pygments_lexer": "ipython3",
   "version": "3.10.15"
  }
 },
 "nbformat": 4,
 "nbformat_minor": 5
}
